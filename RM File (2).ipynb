{
 "cells": [
  {
   "cell_type": "markdown",
   "id": "c799d77e-92b7-4d51-853b-bebd513b71f4",
   "metadata": {},
   "source": [
    "# MONGODB"
   ]
  },
  {
   "cell_type": "markdown",
   "id": "5da43e3d-9275-4e56-a34f-1728e932e624",
   "metadata": {},
   "source": [
    "Show all functions that can be used with the database:"
   ]
  },
  {
   "cell_type": "raw",
   "id": "a66f8ee7-80d8-42bc-b024-955269164d0b",
   "metadata": {},
   "source": [
    "db.mydb.help();"
   ]
  },
  {
   "cell_type": "markdown",
   "id": "c362d5c6-b61f-4fd2-b891-77da156733c5",
   "metadata": {},
   "source": [
    "Show all available databases"
   ]
  },
  {
   "cell_type": "raw",
   "id": "a3c0c842-2f60-45da-9a8f-b45df3bf2446",
   "metadata": {},
   "source": [
    "show dbs;\n",
    "show databases;"
   ]
  },
  {
   "cell_type": "raw",
   "id": "03508736-76cc-4d12-b8cf-433da5509cbd",
   "metadata": {},
   "source": [
    "use mydb;"
   ]
  },
  {
   "cell_type": "markdown",
   "id": "bba23702-1214-4637-9a20-f727883cbce3",
   "metadata": {},
   "source": [
    "Select a particular database to access, e.g. mydb.\n",
    "\n",
    "This will create  mydb if it does not already exist:\n",
    "\n",
    "Note: It will not show you databases until you insert document in database. "
   ]
  },
  {
   "cell_type": "raw",
   "id": "724e8a31-d84f-432f-9d87-95d11873d19a",
   "metadata": {},
   "source": [
    "To check your currently selected database, use the command"
   ]
  },
  {
   "cell_type": "raw",
   "id": "2789ff13-73e8-40b4-9c28-4e6384123bc6",
   "metadata": {},
   "source": [
    "db;"
   ]
  },
  {
   "cell_type": "markdown",
   "id": "cb73ef1d-8bcd-4b80-8b7b-d180001adc53",
   "metadata": {},
   "source": [
    "# Drop a existing database."
   ]
  },
  {
   "cell_type": "code",
   "execution_count": null,
   "id": "d6200976-9394-44cb-8fe4-d2036385a8f9",
   "metadata": {},
   "outputs": [],
   "source": []
  },
  {
   "cell_type": "raw",
   "id": "7555534e-a636-40b5-b5e2-40ca483e6bb8",
   "metadata": {},
   "source": [
    "db.dropDatabase();"
   ]
  },
  {
   "cell_type": "markdown",
   "id": "d7d2ea8d-7178-441d-924b-f3c35c471de7",
   "metadata": {},
   "source": [
    "# Create collection"
   ]
  },
  {
   "cell_type": "markdown",
   "id": "545615d5-c65a-404c-85c8-8e741409d436",
   "metadata": {},
   "source": [
    "There are two ways to create collection \n",
    "1. Explicit Collection Creation"
   ]
  },
  {
   "cell_type": "markdown",
   "id": "dd98060d-7def-49f4-8ff7-d64241046df5",
   "metadata": {},
   "source": [
    "2. Implicit Collection Creation (Automatic)"
   ]
  },
  {
   "cell_type": "markdown",
   "id": "ccca4a98-be9a-4754-ac46-5058ca451e40",
   "metadata": {},
   "source": [
    "1. Explicit Collection Creation"
   ]
  },
  {
   "cell_type": "raw",
   "id": "93c40ef1-186f-44d7-b492-fc2b5592381f",
   "metadata": {},
   "source": [
    "db.createCollection(\"employees\")"
   ]
  },
  {
   "cell_type": "markdown",
   "id": "03372a46-e998-45e9-bf38-b7eed6f39a93",
   "metadata": {},
   "source": [
    "2 . Implicit Collection Creation (Automatic)"
   ]
  },
  {
   "cell_type": "markdown",
   "id": "920af6f1-1a55-4c76-85a0-ebb83b4cc3b2",
   "metadata": {},
   "source": [
    "Simply insert a document into a non-existent collection, and MongoDB will create it automatically:"
   ]
  },
  {
   "cell_type": "raw",
   "id": "ffe75f94-9e02-46c0-ba0d-91f0e12dad63",
   "metadata": {},
   "source": [
    "db.people.insertOne({ name: \"Alice\", age: 30 })"
   ]
  },
  {
   "cell_type": "markdown",
   "id": "080b8a81-0e12-480c-a566-fc3f73599029",
   "metadata": {},
   "source": [
    "# Drop collection"
   ]
  },
  {
   "cell_type": "raw",
   "id": "3ab70af4-1734-4f97-a4ec-55b01dcb128c",
   "metadata": {},
   "source": [
    "use mydb\n",
    "db.people.drop()\n",
    "show collections # it will not show collections"
   ]
  },
  {
   "cell_type": "markdown",
   "id": "8415775b-8655-49ab-aebf-095b91b43cba",
   "metadata": {},
   "source": [
    "# Show All Collections"
   ]
  },
  {
   "cell_type": "markdown",
   "id": "80292768-6d5b-403b-8dbe-e67f24aa7345",
   "metadata": {},
   "source": [
    "First select database as current database"
   ]
  },
  {
   "cell_type": "raw",
   "id": "564319b7-e7cd-4990-ae6b-894218290664",
   "metadata": {},
   "source": [
    "show collections;"
   ]
  },
  {
   "cell_type": "markdown",
   "id": "bf594bd8-2253-4346-9565-97208b87c003",
   "metadata": {},
   "source": [
    "or"
   ]
  },
  {
   "cell_type": "raw",
   "id": "3eddac30-7a4f-4ca8-a833-34890aa14f0e",
   "metadata": {},
   "source": [
    "db.getCollectionNames()\n"
   ]
  },
  {
   "cell_type": "markdown",
   "id": "4ed51eb5-caed-4ba3-80fe-d4d2ae097f7b",
   "metadata": {},
   "source": [
    "# Insert Data"
   ]
  },
  {
   "cell_type": "markdown",
   "id": "719d37b0-55f3-4248-8119-af3a77a342e8",
   "metadata": {},
   "source": [
    "For inserting single document "
   ]
  },
  {
   "cell_type": "raw",
   "id": "d1e346b4-05dc-4d4e-8c78-289d76a3f8b4",
   "metadata": {},
   "source": [
    "db.people.insertOne({name: 'Tom', age: 28}); # people is collection name"
   ]
  },
  {
   "cell_type": "markdown",
   "id": "c0e1dfcf-c217-47cc-a14e-4d37fd3b9389",
   "metadata": {},
   "source": [
    "Use insertMany to insert multiple records:"
   ]
  },
  {
   "cell_type": "raw",
   "id": "47e4c738-b7a6-4467-81cb-1545d0e5877c",
   "metadata": {},
   "source": [
    "db.people.insertMany([{name: 'Tom', age: 28},\n",
    "                      {name: 'John',age: 25}, \n",
    "                      {name: 'Kathy', age: 23}])"
   ]
  },
  {
   "cell_type": "markdown",
   "id": "aef30871-8b76-4e80-be5e-76548e479b83",
   "metadata": {},
   "source": [
    "if we insert above command three times it will insert all records three times so to prevent this we can use unique index on any column"
   ]
  },
  {
   "cell_type": "markdown",
   "id": "cb35e032-fdcb-4e55-aa59-d0e376e8a0ee",
   "metadata": {},
   "source": [
    "# Show all inserted document"
   ]
  },
  {
   "cell_type": "raw",
   "id": "a746a2a2-7468-4077-b53d-de04e5aebeed",
   "metadata": {},
   "source": [
    "db.people.find().pretty()"
   ]
  },
  {
   "cell_type": "raw",
   "id": "88c9a314-e3f0-4f3d-95e7-44d343caeea6",
   "metadata": {},
   "source": [
    "db.people.find()"
   ]
  },
  {
   "cell_type": "markdown",
   "id": "f527f7dd-f0ea-4459-9583-fa8f8d01b578",
   "metadata": {},
   "source": [
    "# Show specific record"
   ]
  },
  {
   "cell_type": "raw",
   "id": "8ae8c83b-a8c8-4103-bbc3-1da9b9d52db4",
   "metadata": {},
   "source": [
    "db.people.find({}, { name: 1, age: 1, _id: 0 })"
   ]
  },
  {
   "cell_type": "raw",
   "id": "92e1957f-173c-4e8e-b366-c41cc6a8464a",
   "metadata": {},
   "source": [
    "db.people.find(...) → This queries the people collection.\n",
    "\n",
    "{} → This empty filter means select all documents.\n",
    "    \n",
    "{ name: 1, age: 1, _id: 0 } → This is the projection part, specifying which fields to include or exclude:\n",
    "\n",
    "name: 1 → Include the name field.\n",
    "\n",
    "age: 1 → Include the age field.\n",
    "\n",
    "_id: 0 → Exclude the _id field (MongoDB includes _id by default unless explicitly excluded).\n",
    "\n",
    "\n",
    "It will return all documents from the people collection but only show the name and age fields while hiding _id."
   ]
  },
  {
   "cell_type": "markdown",
   "id": "e885db0c-3298-4783-b88b-314de141a133",
   "metadata": {},
   "source": [
    "This will show only the name and age fields while hiding the _id field."
   ]
  },
  {
   "cell_type": "raw",
   "id": "3f72937e-0d6a-4c9c-a4fd-ae03ae11bf4a",
   "metadata": {},
   "source": [
    "db.people.find({}, { name: 1, age: 0, _id: 0 })\n",
    "MongoServerError[Location31254]: Cannot do exclusion on field age in inclusion projection\n",
    "\n",
    "if you run above code it will show an error in that you need to mention \n",
    "name: 1 → Inclusion (include the name field).\n",
    "age: 0 → Exclusion (exclude the age field).\n",
    "_id: 0 → Exclusion (exclude the _id field, which is allowed).\n",
    "\n",
    "\n",
    "Why is this an issue?\n",
    "MongoDB requires projections to be either fully inclusive or fully exclusive (except for _id). In your case:\n",
    "\n",
    "You included (name: 1).\n",
    "You excluded (age: 0).\n",
    "This is not allowed, leading to the error.\n",
    "\n",
    "MongoServerError[Location31254]: Cannot do exclusion on field age in inclusion projection\n",
    "\n",
    "\n",
    "How to Fix?\n",
    "\n",
    "1. If you want to include specific fields, do not mix exclusion:\n",
    "\n",
    "db.people.find({}, { name: 1, _id: 0 })\n",
    "\n",
    "This will return only the name field (excluding _id).\n",
    "\n",
    "\n",
    "\n",
    "2. If you want to exclude specific fields, do not mix inclusion:\n",
    "db.people.find({}, { age: 0, _id: 0 })\n",
    "\n",
    "This will return all fields except age and _id.\n",
    "\n",
    "\n",
    "\n"
   ]
  },
  {
   "cell_type": "raw",
   "id": "fe16cfc6-22ed-45b8-b59a-e3524132fcd1",
   "metadata": {},
   "source": [
    "Exception: _id Field\n",
    "\n",
    "db.people.find({}, { name: 1, _id: 0 })  // ✅ Works fine\n",
    "\n",
    "MongoDB allows _id to be excluded even when using inclusion, so this is valid:"
   ]
  },
  {
   "cell_type": "raw",
   "id": "ec40a036-f3b9-4345-8b9c-f02f5bd96ea0",
   "metadata": {},
   "source": [
    "Summary\n",
    "❌ Mixing inclusion and exclusion (except _id) is not allowed.\n",
    "✅ Use either only inclusions or only exclusions, but not both together."
   ]
  },
  {
   "cell_type": "markdown",
   "id": "ec3284db-1787-4294-94ea-da33a8958b11",
   "metadata": {},
   "source": [
    "# Create a Unique Index"
   ]
  },
  {
   "cell_type": "markdown",
   "id": "a882403f-74d2-40d6-8661-d69cfa937528",
   "metadata": {},
   "source": [
    "In MongoDB, you can prevent duplicate entries by creating a unique index on a field, such as name. Here’s how you can do it:"
   ]
  },
  {
   "cell_type": "markdown",
   "id": "654b4c69-659b-4983-82fd-0a9a6c55e0c8",
   "metadata": {},
   "source": [
    "Run the following command to enforce uniqueness on the name field:"
   ]
  },
  {
   "cell_type": "raw",
   "id": "daae6c79-7631-45bd-8e95-e5de52ae33d1",
   "metadata": {},
   "source": [
    "\n",
    "db.people.createIndex({ name: 1 }, { unique: true })\n"
   ]
  },
  {
   "cell_type": "markdown",
   "id": "a3306d31-2530-4a0d-9b55-27375d71653c",
   "metadata": {},
   "source": [
    "You might see below error if you have already duplicate values in your data which is why create unique index first than insert the data"
   ]
  },
  {
   "cell_type": "markdown",
   "id": "bf41c89c-6598-45a3-af13-76309921b436",
   "metadata": {},
   "source": [
    "MongoServerError[DuplicateKey]: Index build failed: 07609db9-8d8e-4f27-a4bc-b2ef7d7a5dac:\n"
   ]
  },
  {
   "cell_type": "markdown",
   "id": "0ede61c8-8f87-412d-82f3-0a11c311cde0",
   "metadata": {},
   "source": [
    "# Update Commands :"
   ]
  },
  {
   "cell_type": "code",
   "execution_count": 1,
   "id": "eb3534da-59b9-438b-a6fe-56ba619b2b2f",
   "metadata": {},
   "outputs": [],
   "source": [
    "Basically we can Update the entire object:"
   ]
  },
  {
   "cell_type": "markdown",
   "id": "23b634ad-ae4e-4b7e-af65-82953d3a7a6d",
   "metadata": {},
   "source": [
    "# 1. Firstly Update a Single Document"
   ]
  },
  {
   "cell_type": "code",
   "execution_count": null,
   "id": "a5a0429f-28b0-4531-b2be-d04ac606f314",
   "metadata": {},
   "outputs": [],
   "source": [
    "use mydb\n",
    "\n",
    "db.people.update({name: 'Tom'}, {age: 29, name: 'Tom'})       #  When the updated version of this came, this command is no longer in use .\n",
    "\n",
    "\n",
    "***New in MongoDB 3.2\n",
    "\n",
    "db.people.updateOne({ name: \"Tom\" }, { $set: { age: 30 } })     # Here we Updated Tom's age from 28 to 29 means just update a single field of a document..\r\n"
   ]
  },
  {
   "cell_type": "markdown",
   "id": "3957c668-6943-4c64-8635-70ad2c960ef9",
   "metadata": {},
   "source": [
    "# 2. Update Multiple Document"
   ]
  },
  {
   "cell_type": "code",
   "execution_count": null,
   "id": "0e3f92e5-5561-42f6-84b1-7e898588b0b4",
   "metadata": {},
   "outputs": [],
   "source": [
    "\n",
    "db.people.updateMany({}, { $inc: { age: 1 } })       # Increase everyone's age by 1:\n"
   ]
  },
  {
   "cell_type": "markdown",
   "id": "a4c26a5f-b003-4266-8eb9-2ce5a761292e",
   "metadata": {},
   "source": [
    "You can also update multiple documents simultaneously by adding a third parameter. This query will update all\n",
    "documents where the name equals Tom:\n",
    "Example given below:"
   ]
  },
  {
   "cell_type": "code",
   "execution_count": null,
   "id": "b19a6321-b211-408b-bee9-0166a11a7c1b",
   "metadata": {},
   "outputs": [],
   "source": [
    "\n",
    "db.people.update({name: 'Tom'}, {$set: {age: 29}}, {multi: true})\n"
   ]
  },
  {
   "cell_type": "markdown",
   "id": "c32edebe-2f16-45d3-b8a1-d311b82b534e",
   "metadata": {},
   "source": [
    "# 3. Replaced\n"
   ]
  },
  {
   "cell_type": "markdown",
   "id": "202c3533-d93e-4d31-97a1-fd7c33881ec4",
   "metadata": {},
   "source": [
    "If a document is needed to be replaced"
   ]
  },
  {
   "cell_type": "code",
   "execution_count": null,
   "id": "15c04701-1994-4993-bf58-0f3359ffd692",
   "metadata": {},
   "outputs": [],
   "source": [
    "\n",
    "db.people.replaceOne({ name: \"Tom\" }, { name: \"Lakmal\", age: 25, city: \"Sri Lanka\" })   # Replace Tom's document entirely with new fields:\n"
   ]
  },
  {
   "cell_type": "markdown",
   "id": "663841ef-6f5b-422f-b2a4-3d05773d6611",
   "metadata": {},
   "source": [
    "If a new field is coming for update, that field will be added to the document."
   ]
  },
  {
   "cell_type": "code",
   "execution_count": null,
   "id": "2fd838fa-c89a-4ced-a3c9-a0129a8418e0",
   "metadata": {},
   "outputs": [],
   "source": [
    "\n",
    "db.people.updateMany({name: 'Tom'},{$set:{age: 30, salary:50000}})       # Document will have \"salary\"field as well.\n",
    "\n"
   ]
  },
  {
   "cell_type": "markdown",
   "id": "078439c1-353d-44db-89b1-bc8371c59c8c",
   "metadata": {},
   "source": [
    "# 4. Upsert (Update if exists, Insert if not)"
   ]
  },
  {
   "cell_type": "markdown",
   "id": "51bf0fc0-89ac-40cc-a528-b12474e192f4",
   "metadata": {},
   "source": [
    "Update the document (if not found, insert a new document):"
   ]
  },
  {
   "cell_type": "code",
   "execution_count": null,
   "id": "1ff29bdf-4293-42a8-a26b-a997d8493b73",
   "metadata": {},
   "outputs": [],
   "source": [
    "\n",
    "    db.people.updateOne({ name: \"Kathy\" }, { $set: { age: 24 } }, { upsert: true })  # Update Kathy's age from 23 to 24\n",
    "\n",
    "db.people.updateOne({ name: \"Mittali\" }, { $set: { age: 27 } }, { upsert: true })  #Update Mittali's age to 27 (if not found, insert a new document)\n",
    "\n"
   ]
  },
  {
   "cell_type": "markdown",
   "id": "10736f72-870d-4d55-b210-3a0449e0c15f",
   "metadata": {},
   "source": [
    "# 5. Rename a Field"
   ]
  },
  {
   "cell_type": "markdown",
   "id": "1faefd31-2d8a-4d38-8449-90cef1048fe0",
   "metadata": {},
   "source": [
    "Rename \"age\" to \"years_old\" for all documents:"
   ]
  },
  {
   "cell_type": "code",
   "execution_count": null,
   "id": "61db1372-3c72-4f65-a273-15a942054829",
   "metadata": {},
   "outputs": [],
   "source": [
    "\n",
    "db.people.updateMany({}, { $rename: { age: \"years_old\" } })\n"
   ]
  },
  {
   "cell_type": "markdown",
   "id": "9d8dcf48-e1b6-4057-827a-9cbc57e2b3f2",
   "metadata": {},
   "source": [
    "# 6. Add a New Field to All Documents\n"
   ]
  },
  {
   "cell_type": "code",
   "execution_count": null,
   "id": "bf37dd4e-9e4e-430a-92a0-9aad20d65986",
   "metadata": {},
   "outputs": [],
   "source": [
    "\n",
    "db.people.updateMany({}, { $set: { gender: \"Unknown\" } })    # Add a gender field with value \"Unknown\" to all:\n"
   ]
  },
  {
   "cell_type": "markdown",
   "id": "36c97727-4569-4cb7-b83c-fdbda64cd171",
   "metadata": {},
   "source": [
    "# 7. Remove a Field from All Documents\n"
   ]
  },
  {
   "cell_type": "code",
   "execution_count": null,
   "id": "c7e1c0e1-64ca-4e6c-bbfa-4529f00944d0",
   "metadata": {},
   "outputs": [],
   "source": [
    "\n",
    "db.people.updateMany({}, { $unset: { gender: \"\" } })       # Remove the gender field from all documents:\n"
   ]
  },
  {
   "cell_type": "markdown",
   "id": "6033d816-f6fa-4d46-8f74-d5fbbf6aa5e6",
   "metadata": {},
   "source": [
    "Note: Fields you use to identify the object will be saved in the updated document. Field that are not defined in the\r\n",
    "update section will be removed from the document."
   ]
  },
  {
   "cell_type": "markdown",
   "id": "7e3249c2-3119-4649-b1cd-d6215981b656",
   "metadata": {},
   "source": [
    " # Delete Commands"
   ]
  },
  {
   "cell_type": "markdown",
   "id": "dc1f80d2-6b3b-4275-87d9-cab8d9041130",
   "metadata": {},
   "source": [
    "Deletes all documents matching the query parameter:\n"
   ]
  },
  {
   "cell_type": "markdown",
   "id": "d3ae57fd-b078-4762-84e0-26c3d69658ba",
   "metadata": {},
   "source": [
    "1. Delete a Single Document\n"
   ]
  },
  {
   "cell_type": "code",
   "execution_count": null,
   "id": "c2ad8f64-e73a-49f4-997c-f0eb927eb484",
   "metadata": {},
   "outputs": [],
   "source": [
    "\n",
    "db.people.deleteOne({ name: \"Tom\" })          #Deletes only the first matching document where name is \"Tom\"\n",
    "\n"
   ]
  },
  {
   "cell_type": "markdown",
   "id": "d6def8ca-c6d0-4d0b-93db-1db06db0cf3b",
   "metadata": {},
   "source": [
    "2. Delete Multiple Documents\n"
   ]
  },
  {
   "cell_type": "code",
   "execution_count": null,
   "id": "625d814c-54fa-4d1a-84f3-a108ea1b297b",
   "metadata": {},
   "outputs": [],
   "source": [
    "\n",
    "db.people.deleteMany({  years_old: { $gt: 25 } })   # Deletes all documents where age > 25 ( \"Make sure to use the renamed column, not the old one.\")\n"
   ]
  },
  {
   "cell_type": "markdown",
   "id": "e772749c-dd26-48b3-9f54-5fdb2749a049",
   "metadata": {},
   "source": [
    "3. Delete All Documents in Collection\n"
   ]
  },
  {
   "cell_type": "code",
   "execution_count": null,
   "id": "aa150b1a-c178-440a-b25c-8edac7cd6597",
   "metadata": {},
   "outputs": [],
   "source": [
    "\n",
    "db.people.deleteMany({})      # db.people.deleteMany({})\n"
   ]
  },
  {
   "cell_type": "markdown",
   "id": "ca24d55b-d50b-4702-9117-b26dba8a1544",
   "metadata": {},
   "source": [
    "4. Drop the Entire Collection\n"
   ]
  },
  {
   "cell_type": "code",
   "execution_count": null,
   "id": "4dd3cfa1-3325-4a5e-8850-8e7e079dc8fe",
   "metadata": {},
   "outputs": [],
   "source": [
    "\n",
    "db.people.drop()           #Deletes all documents and the collection itself:\n"
   ]
  },
  {
   "cell_type": "markdown",
   "id": "7d1e0a9e-9fd2-4100-8d47-ae61f67e4799",
   "metadata": {},
   "source": [
    "5. Drop the Entire Database"
   ]
  },
  {
   "cell_type": "code",
   "execution_count": null,
   "id": "95345080-f87d-4e3f-acb7-950a0b31c262",
   "metadata": {},
   "outputs": [],
   "source": [
    "\n",
    "use mydb\n",
    "db.dropDatabase()         #Deletes the entire mydb database (⚠ Be careful!):\n"
   ]
  },
  {
   "cell_type": "markdown",
   "id": "5d9936ec-3fe2-453e-a065-0e1e5e1f0a1f",
   "metadata": {},
   "source": [
    "# Check if Data is Deleted\n"
   ]
  },
  {
   "cell_type": "markdown",
   "id": "27efe32d-2a50-4451-9b65-45e446f8a7fd",
   "metadata": {},
   "source": [
    "\n",
    "**Run this command to verify:\n",
    "  db.people.find().pretty()\n",
    "\n",
    "**If the collection is dropped, use:\n",
    "  show collections\n",
    "\n",
    "**If the database is dropped, switch to another database and check:\n",
    "  show dbs\n",
    "\n",
    "\n",
    "Note: If you are using Remove command then:\n",
    "\n",
    "db.people.remove({name: 'Tom'}, true)\n",
    "DeprecationWarning: Collection.remove() is deprecated. Use deleteOne, deleteMany, findOneAndDelete, or bulkWrite.\n",
    "{ acknowledged: true, deletedCount: 0 }\n"
   ]
  },
  {
   "cell_type": "markdown",
   "id": "219f123c-a105-4dab-8cb5-e4b926567219",
   "metadata": {},
   "source": [
    "# Read Commands"
   ]
  },
  {
   "cell_type": "raw",
   "id": "06f9105c-a827-46a4-a9b3-350413cc793b",
   "metadata": {},
   "source": [
    "1. Read All Documents"
   ]
  },
  {
   "cell_type": "raw",
   "id": "fe03c167-11fb-4452-9d61-cf36d22856dd",
   "metadata": {},
   "source": [
    "\n",
    "db.people.find()    #Retrieves all documents in the people collection:\n"
   ]
  },
  {
   "cell_type": "raw",
   "id": "0357bd62-225d-4cf7-8c0d-c6a10c3da41f",
   "metadata": {},
   "source": [
    "\n",
    "db.people.find().pretty()    #Pretty format output:\n"
   ]
  },
  {
   "cell_type": "raw",
   "id": "ed7b9669-a0eb-45e2-899c-7bae224bbb9d",
   "metadata": {},
   "source": [
    "\n",
    "** Difference between find and Pretty in Mongodb\n",
    "In MongoDB,by default, the find() command returns results in a compact JSON format, which can be difficult to read. \n",
    "Using the .pretty() method formats the output to make it more readable and structured.\n"
   ]
  },
  {
   "cell_type": "raw",
   "id": "90bad7a8-d7d8-4c2c-ae84-1e32d26e024d",
   "metadata": {},
   "source": [
    "2. Read Specific Fields"
   ]
  },
  {
   "cell_type": "raw",
   "id": "85ebf8ed-a06f-41f0-a76b-d9aebd68cccd",
   "metadata": {},
   "source": [
    "\n",
    "--Query for all the docs in the people collection that have a name field with a value of 'Tom':\n",
    "Command -  db.people.find({name: 'Tom'})\n",
    "\n",
    "--Or just the first one\n",
    "Command - db.people.findOne({name: 'Tom'})    #Retrieve only the first document where name is \"Tom\".\n",
    "\n"
   ]
  },
  {
   "cell_type": "raw",
   "id": "59687a1e-601e-4ea1-b3e8-9ef9852903d8",
   "metadata": {},
   "source": [
    "\n",
    " -- You can also specify which fields to return by passing a field selection parameter. The following will exclude the _id\n",
    " field and only include the age field\n",
    "\n",
    "Command-  db.people.find({}, { name: 1, years_old: 1, _id: 0 }) # Retrieve only the name and years_old fields (excluding _id):\n",
    "Output: will show all the records related to name and years_old from the collection\n",
    "\n",
    "Command-  db.people.find({name: 'Tom'}, {_id: 0, age: 1})\n",
    "Output- Here will show only Tom's related data \n",
    "\n",
    "Note: by default, the _id field will be returned, even if you don't ask for it. If you would like not to get the _id back,\n",
    " you can just follow the previous example and ask for the _id to be excluded by specifying _id: 0 (or _id: false).If\n",
    " you want to find sub record like address object contains country, city, etc.\n",
    "\n",
    " Command-  db.people.find({'address.country': 'US'})   #  & specify field too if required\n",
    " And if field not exist then you may need to update the required field first.\n",
    "\n",
    "Command-  db.people.find({'address.country': 'US'}, {'name': true, 'address.city': true})     # Remember that the\n",
    " result has a '.pretty()' method that pretty-prints resulting JSON:\n",
    " db.people.find().pretty()\n",
    "\n",
    "\n",
    "\n"
   ]
  },
  {
   "cell_type": "markdown",
   "id": "6b9a7b63-b7ed-401e-a018-82734b93f3f6",
   "metadata": {},
   "source": [
    "\n",
    "# 3. Filter by Condition\n"
   ]
  },
  {
   "cell_type": "markdown",
   "id": "37be085a-f0a6-4765-aba4-c61839379b53",
   "metadata": {},
   "source": [
    "questions and answers"
   ]
  },
  {
   "cell_type": "raw",
   "id": "d084c9a0-0e40-43d0-be58-d67e2f7958f4",
   "metadata": {},
   "source": [
    "\n",
    "Ques.-Find people older than 25 (years_old > 25)\n",
    "Command- db.people.find({ years_old: { $gt: 25 } })\n"
   ]
  },
  {
   "cell_type": "raw",
   "id": "7db93b5a-90be-467c-a5bd-a97d69660b20",
   "metadata": {},
   "source": [
    "\n",
    "Ques.- Find people younger than 26 (years_old < 26)\n",
    "Command- db.people.find({ years_old: { $lt: 26 } })\n"
   ]
  },
  {
   "cell_type": "raw",
   "id": "d9e8b419-706e-40fb-99c4-93820b6b8c43",
   "metadata": {},
   "source": [
    "\n",
    "Ques.-Find people aged 25 or 26 (years_old in [25, 26])\n",
    "Command- db.people.find({ years_old: { $in: [25, 26] } })\n"
   ]
  },
  {
   "cell_type": "markdown",
   "id": "82456149-5d83-4d29-8d0c-a9f91ca3eb1e",
   "metadata": {},
   "source": [
    "# Search Using Logical Operators"
   ]
  },
  {
   "cell_type": "raw",
   "id": "cca8e7c7-0ad0-402e-99b1-87b8bc4384a0",
   "metadata": {},
   "source": [
    "\n",
    "Ques.- Find people aged between 25 and 27 (25 <= years_old <= 27)\n",
    "Command- db.people.find({ years_old: { $gte: 25, $lte: 27 } })\n"
   ]
  },
  {
   "cell_type": "raw",
   "id": "df0e0347-6e17-451f-9479-1dadf3d349ea",
   "metadata": {},
   "source": [
    "\n",
    "Ques.- Find people who are either \"Lakmal\" or \"Kathy\"   \n",
    "Command- db.people.find({ name: { $in: [\"Lakmal\", \"Kathy\"] } })\n",
    "\n"
   ]
  },
  {
   "cell_type": "raw",
   "id": "61e9441e-72e0-4c9f-ac25-377ee81f4aeb",
   "metadata": {},
   "source": [
    "Ques.- Find people who are NOT from \"Sri Lanka\"\n",
    "Command- db.people.find({ city: { $ne: \"Sri Lanka\" } })\n"
   ]
  },
  {
   "cell_type": "markdown",
   "id": "5e45319b-9340-4d14-9aeb-f7d02acd1c0a",
   "metadata": {},
   "source": [
    "# Some Scenarios based Questions:"
   ]
  },
  {
   "cell_type": "raw",
   "id": "10d7821d-d011-49d1-b10c-1f704baa2def",
   "metadata": {},
   "source": [
    "\n",
    "Limit & Skip Results\n"
   ]
  },
  {
   "cell_type": "raw",
   "id": "2def6dc8-1422-4a21-b9e8-570d16dce920",
   "metadata": {},
   "source": [
    "\n",
    "Ques1- How we can get starting two document ?\n",
    "Command: db.collection_name.find().limit(No.)\n",
    "Ex- db.people.find().limit(2)\n"
   ]
  },
  {
   "cell_type": "raw",
   "id": "a8fecf29-3cb0-4b28-b5b4-5dcb98e811c0",
   "metadata": {},
   "source": [
    "\n",
    "Ques2- How to skip 1st record from collection ?\n",
    "Command: db.collection_name.find().skip(No.)\n",
    "Ex- db.people.find().skip(1)\n"
   ]
  },
  {
   "cell_type": "raw",
   "id": "a7a3db91-47ea-4424-ba82-102357f1601f",
   "metadata": {},
   "source": [
    "\n",
    "Ques3- How to skip 1st document after that getting 3 document ?\n",
    "NOTE: Always give 1st priority to skip\n",
    "\n",
    "Command: db.collection_name.find().limit(No.).skip(No.)  # Means Skipped the first record and showed the remaining three.\n",
    "Ex- db.people.find().skip(1).limit(3)\n"
   ]
  },
  {
   "cell_type": "raw",
   "id": "e7439a21-7868-439b-a8e5-056adf5150fa",
   "metadata": {},
   "source": [
    "\n",
    "Sorting Results\n"
   ]
  },
  {
   "cell_type": "raw",
   "id": "dcb84362-23d4-471a-845b-f664501446c0",
   "metadata": {},
   "source": [
    "\n",
    "Ques4- How to get all document of salary based on descending order(salary)?\n",
    "\n",
    "Note: First you need to check that there should be salary column in your collection if not then add this column(salary) first than\n",
    "follow this command given below.\n",
    "\n",
    "    Command- db.colname.find().sort({fieldname:'fieldvalue'})    #Sort- This function desides the 'Orders'\n",
    "    Eg-      db.people.find().sort({salary:'desc'})              # Here Pass value in Json document\n",
    "\n",
    "\n",
    "\n",
    "NOTE: In Case,If two employee having same salary in the given collection then we consider its 'IDs' \n",
    "      means whatever the ID  was added first will appear at the top, even if there are three records with the same salary.\"\n",
    "    "
   ]
  },
  {
   "cell_type": "raw",
   "id": "773c87c9-261f-4808-b257-7c91590b4e34",
   "metadata": {},
   "source": [
    "\n",
    "Ques5- Sort the values after Salary,Acoording to Field (name or id).\n",
    "NOTE: Give 1st,2nd,3rd priority to the field\n",
    "\n",
    "Command - db.collection_name.find()sort({fieldname:'fieldvalue',fieldname:'fieldvalue'})\n",
    "Eg -      db.people.find().sort({salary:'desc',name:'asc'})  # Here (salary:'desc' ) is a 1st prioprity & name:'asc' is second\n",
    "\n",
    "NOTE: If 1st priority failed then need to give 2nd priority to the another field.\n",
    "\"If this also fails, the output will follow the order in which the data was inserted; otherwise, we will do Sorting on the ID column.\"\n"
   ]
  },
  {
   "cell_type": "raw",
   "id": "873a587f-f938-4e0a-a35d-c8deef24cd21",
   "metadata": {},
   "source": [
    "\n",
    "Ques.6- Another way to write desc order.\n",
    "Command- db.people.find().sort({salary:-1})    #-1 indicates descending\n",
    "    "
   ]
  },
  {
   "cell_type": "raw",
   "id": "b74bd607-362e-46e6-a532-b3289ec6032e",
   "metadata": {},
   "source": [
    "\n",
    "Ques.7- Another way to write Asc order.\n",
    "Command- db.people.find().sort({salary:1})    #1 indicates ascending\n",
    "    "
   ]
  },
  {
   "cell_type": "raw",
   "id": "62766bbb-a8de-42dd-831d-aaf39fc4e1af",
   "metadata": {},
   "source": [
    "\n",
    "Count Documents\n"
   ]
  },
  {
   "cell_type": "raw",
   "id": "af21f3c9-9adf-484b-b21c-1911e07c5305",
   "metadata": {},
   "source": [
    "\n",
    "Ques- Count all people in the collection\n",
    "Command- db.people.countDocuments()\n"
   ]
  },
  {
   "cell_type": "raw",
   "id": "c5285ac4-05d4-4420-8287-28092314f497",
   "metadata": {},
   "source": [
    "\n",
    "Ques- Count people older than 25\n",
    "Command- db.people.countDocuments({ years_old: { $gt: 25 } })\n"
   ]
  },
  {
   "cell_type": "raw",
   "id": "4e5a740f-143f-4aa9-ac19-d2cbeb60cf14",
   "metadata": {},
   "source": [
    "\n",
    "Check If a Field Exists\n"
   ]
  },
  {
   "cell_type": "raw",
   "id": "12e3665f-acf5-4213-9e71-7ac1871b64d8",
   "metadata": {},
   "source": [
    "\n",
    "Ques-Find documents where city field exists\n",
    "Command- db.people.find({ city: { $exists: true } })\n"
   ]
  },
  {
   "cell_type": "raw",
   "id": "c89b0ac3-4a34-479e-9e5e-9fef0accd986",
   "metadata": {},
   "source": [
    "\n",
    "Ques-Find documents where city is missing\n",
    "Command- db.people.find({ city: { $exists: false } })\n"
   ]
  },
  {
   "cell_type": "raw",
   "id": "0346be1c-fa84-4961-86d3-c9c2d2b595c1",
   "metadata": {},
   "source": [
    "\n",
    "Use Regular Expressions for Search\n"
   ]
  },
  {
   "cell_type": "raw",
   "id": "0f49baed-679e-4c07-867d-4b4f0db56cc5",
   "metadata": {},
   "source": [
    "\n",
    "Ques- Find names starting with \"L\"\n",
    "Command- db.people.find({ name: /^L/ })\n",
    "\n",
    "Ques- Find names ending with \"y\"\n",
    "Command-db.people.find({ name: /y$/ })\n",
    "\n",
    "Ques- Find names containing \"a\"\n",
    "Command-db.people.find({ name: /a/ })\n",
    "\n"
   ]
  },
  {
   "cell_type": "raw",
   "id": "6970f98e-4848-4f74-bfae-a0798fe8e0d3",
   "metadata": {},
   "source": [
    "\n",
    "Aggregate Queries (Advanced)\n"
   ]
  },
  {
   "cell_type": "raw",
   "id": "91239d44-333e-4ec3-9288-55d630be2718",
   "metadata": {},
   "source": [
    "Ques- Find the average age of people\n",
    "\n",
    "Command- db.people.aggregate([\n",
    "  { $group: { _id: null, avgAge: { $avg: \"$years_old\" } } }\n",
    "])\n",
    "\n",
    "Ques-Count people per age group\n",
    "Command- db.people.aggregate([\n",
    "  { $group: { _id: \"$years_old\", count: { $sum: 1 } } }\n",
    "])\n",
    "\n",
    "\n"
   ]
  },
  {
   "cell_type": "raw",
   "id": "8446a4db-bf71-48a8-89fa-2ded3d918b2c",
   "metadata": {},
   "source": [
    "✅ Summary of Read Commands\n",
    "Command\tPurpose\n",
    "find()\t            Get all documents\n",
    "findOne()\t        Get a single document\n",
    "find({filter})\t    Get filtered data\n",
    "find({}, {fields})\tRetrieve specific fields\n",
    "sort({field: 1})\tSort ascending\n",
    "sort({field: -1})\tSort descending\n",
    "limit(n)\t        Limit results\n",
    "skip(n)\t            Skip results\n",
    "countDocuments()\tCount records\n",
    "aggregate([...])\tAdvanced queries"
   ]
  },
  {
   "cell_type": "raw",
   "id": "c9f9fd87-8c3d-41d9-b593-2d2679a6d8e1",
   "metadata": {},
   "source": [
    "1️⃣ Comparison Operators/ Query Operators\n",
    "Used to compare values in documents.\n",
    "\n",
    "Operator\t                             Description\t                                       Example\n",
    "$eq\t                               Matches values equal to a specified value\t               { years_old: { $eq: 25 } }\n",
    "$ne\t                               Matches values not equal to a specified value\t           { years_old: { $ne: 25 } }\n",
    "$gt\t                               Matches values greater than a specified value\t           { years_old: { $gt: 25 } }\n",
    "$gte\t                           Matches values greater than or equal to a specified value   { years_old: { $gte: 25 } }\n",
    "$lt                                Matches values less than a specified value\t               { years_old: { $lt: 25 } }\n",
    "$lte\t                           Matches values less than or equal to a specified value\t   { years_old: { $lte: 25 } }\n",
    "$in\t                               Matches any value in an array\t                           { name: { $in: [\"John\", \"Kathy\"] } }\n",
    "$nin                               Matches values not in an array\t                           { name: { $nin: [\"John\", \"Kathy\"] } }\n",
    "\n",
    "Noted: These all Query Operators will written in JSON Format and it will written with $ sign \n",
    "       Direct Operatiom cannot be allowed"
   ]
  },
  {
   "cell_type": "markdown",
   "id": "dc921025-4863-4dc1-a926-fb5a869d1a2b",
   "metadata": {},
   "source": [
    "# What is Criteria and Projection ?"
   ]
  },
  {
   "cell_type": "raw",
   "id": "7f3d9183-a79d-4919-8bec-82b323cd44fa",
   "metadata": {},
   "source": [
    "MongoDB queries consist of two main parts:\n",
    "\n",
    "1️⃣Projection (Filter Condition) :-Selection of Specific columns/fields is known as a Projection\n",
    "2️⃣Criteria (Filter Condition) :- Means Filter Rows/documents \n"
   ]
  },
  {
   "cell_type": "raw",
   "id": "d26bc983-98b1-4a66-ab6e-770f89f4e712",
   "metadata": {},
   "source": [
    "\n",
    "Command- db.people.find({},{})      # ({},{}) It's mean (all)\n",
    "Here 1st curly braces {} means Criteria and 2nd curly braces {} means Projection\n",
    "\n",
    "** All document will pass in JSON Format in Mongodb\n"
   ]
  },
  {
   "cell_type": "raw",
   "id": "369d0be6-846a-44cb-8e04-d278855441b7",
   "metadata": {},
   "source": [
    "\n",
    "1️⃣ Criteria (Filter Condition)\n",
    "A criteria (also called a filter condition) is used to specify which documents should be retrieved, updated, or deleted.\n",
    "MongoDB provides various query operators (like $eq, $gt, $in, $regex, etc.) to define conditions.\n",
    "\n",
    "Eg=   select name,salary from people where salary>20000;  # Here (where salary>20000) is a Criteria\n",
    "\n",
    "Ques- Find people older than 25:\n",
    "Command - db.people.find({ age: { $gt: 25 } })    \n",
    "\n",
    "\n",
    "\n",
    "2️⃣ Projection (Fields to Display)\n",
    "Projection is used to control which fields are returned in the output.\n",
    "\n",
    "By default, find() returns all fields in the matching documents.\n",
    "To limit fields, use projection (1 to include, 0 to exclude).\n",
    "\n",
    "Eg= select column_name (name,salary) from people where salary>20000  # Here (name and salary )are a projection\n",
    "Ques- Find all people but show only name and age (exclude _id):\n",
    "Command- db.people.find({}, { name: 1, age: 1, _id: 0 })\n",
    "\n",
    "📌 Note: _id is included by default. Use { _id: 0 } to exclude it.\n"
   ]
  },
  {
   "cell_type": "markdown",
   "id": "cf463fa0-e36d-4ff8-a865-1ac391a2eb2d",
   "metadata": {},
   "source": [
    "# Projection with Criteria"
   ]
  },
  {
   "cell_type": "raw",
   "id": "63a81830-a7a3-42e2-8562-50bb08809c16",
   "metadata": {},
   "source": [
    "You can combine criteria and projection in a single query."
   ]
  },
  {
   "cell_type": "raw",
   "id": "bf3f04e0-a4a4-4c89-8707-9d522786151a",
   "metadata": {},
   "source": [
    "\n",
    "Some Question based on it:\n",
    "\n",
    "Ques1- Find people older than 26 and show only name (exclude _id and age):\n",
    "Command- db.people.find({ age: { $gt: 26 }}, { name: 1, _id: 0 })\n",
    "\n",
    "\n",
    "Ques2- Find people in \"New York\" but show only age (exclude _id and name):\n",
    "Command- db.people.find({ city: \"New York\" }, { age: 1, _id: 0 })\n"
   ]
  },
  {
   "cell_type": "markdown",
   "id": "73235c4c-8516-44b2-a2c3-55ca2181833c",
   "metadata": {},
   "source": [
    "# Projection with Exclusion (0)"
   ]
  },
  {
   "cell_type": "raw",
   "id": "b6fb9aba-b017-472c-af45-6bd192be8f8a",
   "metadata": {},
   "source": [
    "Instead of including specific fields (1), you can exclude certain fields (0)."
   ]
  },
  {
   "cell_type": "raw",
   "id": "0a641519-fc1a-4d0e-bdaf-71c7aff8dbdc",
   "metadata": {},
   "source": [
    "\n",
    "Some Question based on it:\n",
    "\n",
    "Ques- Find all people but exclude salary and _id:\n",
    "Command- db.people.find({}, {salary: 0, _id: 0 })\n",
    "\n",
    "📌 Note: You cannot mix 1 (include) and 0 (exclude) in the same projection, except for _id.\n"
   ]
  },
  {
   "cell_type": "markdown",
   "id": "55aa5ddf-061d-4276-a94f-4c52da8a26ea",
   "metadata": {},
   "source": [
    "# Projection with Array Fields ($slice)\n"
   ]
  },
  {
   "cell_type": "raw",
   "id": "0981705b-259d-4d98-99dc-ab6a3f32d880",
   "metadata": {},
   "source": [
    "If a field contains an array, you can limit the number of elements returned.\n",
    "\n",
    "Example Collection with an Array (tags field):\n",
    "[\n",
    "  { \"name\": \"John\", \"tags\": [\"mongodb\", \"database\", \"nosql\"] },\n",
    "  { \"name\": \"Kathy\", \"tags\": [\"frontend\", \"javascript\", \"react\"] }\n",
    "]\n",
    "\n",
    "\n",
    "Ques-1 Retrieve only the first 2 elements of tags:\n",
    "Command- db.people.find({}, { name: 1, tags: { $slice: 2 }, _id: 0 })\n",
    "\n"
   ]
  },
  {
   "cell_type": "raw",
   "id": "211e0430-4d7a-4171-95fe-10c7412a7a87",
   "metadata": {},
   "source": [
    "Summary: Criteria vs. Projection\n",
    "\n",
    "Feature\t                                 Criteria (Filter Condition)\t         Projection (Fields to Display)\n",
    "Purpose\t                                 Filters documents\t                     Controls which fields are shown\n",
    "Operators Used                         \t $gt, $lt, $eq, $in, $regex, etc.\t     1 (include) and 0 (exclude)\n",
    "Example\t                                 { age: { $gt: 25 } }\t                 { name: 1, _id: 0 }\n",
    "Can be Used Together?\t                 ✅ Yes                                \t✅ Yes"
   ]
  },
  {
   "cell_type": "raw",
   "id": "df186fbf-24c0-41e1-b852-68cdb2fc0b89",
   "metadata": {},
   "source": [
    "Final Example: Criteria + Projection\n",
    "\n",
    "Ques- Find people older than 25, show only name and city (exclude _id)\n",
    "\n",
    "Command- db.people.find({ age: { $gt: 25 } }, { name: 1, city: 1, _id: 0 })\n"
   ]
  },
  {
   "cell_type": "markdown",
   "id": "49874017-6221-4bd6-9800-4a3782868bff",
   "metadata": {},
   "source": [
    "# Conclusion\n"
   ]
  },
  {
   "cell_type": "raw",
   "id": "465ac6da-e732-485e-86cb-4ec7bcc0f6bb",
   "metadata": {},
   "source": [
    "1.Criteria (find({ filter })) filters the documents based on conditions.\n",
    "2.Projection (find({ filter }, { fields })) controls which fields to display.\n",
    "3.You can use both together to efficiently query and retrieve only required data."
   ]
  }
 ],
 "metadata": {
  "kernelspec": {
   "display_name": "Python 3 (ipykernel)",
   "language": "python",
   "name": "python3"
  },
  "language_info": {
   "codemirror_mode": {
    "name": "ipython",
    "version": 3
   },
   "file_extension": ".py",
   "mimetype": "text/x-python",
   "name": "python",
   "nbconvert_exporter": "python",
   "pygments_lexer": "ipython3",
   "version": "3.11.7"
  }
 },
 "nbformat": 4,
 "nbformat_minor": 5
}
